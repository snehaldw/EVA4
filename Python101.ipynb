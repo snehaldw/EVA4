{
  "nbformat": 4,
  "nbformat_minor": 0,
  "metadata": {
    "colab": {
      "name": "Python101.ipynb",
      "provenance": [],
      "collapsed_sections": [],
      "include_colab_link": true
    },
    "kernelspec": {
      "name": "python3",
      "display_name": "Python 3"
    }
  },
  "cells": [
    {
      "cell_type": "markdown",
      "metadata": {
        "id": "view-in-github",
        "colab_type": "text"
      },
      "source": [
        "<a href=\"https://colab.research.google.com/github/snehaldw/EVA4/blob/master/Python101.ipynb\" target=\"_parent\"><img src=\"https://colab.research.google.com/assets/colab-badge.svg\" alt=\"Open In Colab\"/></a>"
      ]
    },
    {
      "cell_type": "markdown",
      "metadata": {
        "id": "jXS_TkEMZXiG",
        "colab_type": "text"
      },
      "source": [
        ""
      ]
    },
    {
      "cell_type": "markdown",
      "metadata": {
        "id": "mnJ8ar0thqYq",
        "colab_type": "text"
      },
      "source": [
        "# Python 101\n",
        "![alt text](https://encrypted-tbn0.gstatic.com/images?q=tbn%3AANd9GcRZpTmijaNOH6MmycM_eiPKcEl5mVvbwl7a8YKVGpEEMIanDcSt)\n",
        "\n",
        "This is a MUST Python Refresher. You must finish this notebook as a part of overall grading.\n",
        "\n",
        "Majority of this notebook is inspired from: Stanford's Python Refresher which can be found at: https://cs231n.github.io/python-numpy-tutorial/\n",
        "\n",
        "\n",
        "\n",
        "---\n",
        "\n",
        "**We have modified the original notebook and added some questions here. You need to find the solutions and provide answers in your Q1 - Python 101 Quiz.**\n"
      ]
    },
    {
      "cell_type": "markdown",
      "metadata": {
        "id": "nq-sNhAjiAxa",
        "colab_type": "text"
      },
      "source": [
        "# Python\n",
        "Python is a high-level, dynamically typed multiparadigm programming language. Python code is often said to be almost like pseudocode, since it allows you to express very powerful ideas in very few lines of code while being very readable.\n",
        "\n",
        "---\n",
        "\n",
        "## Python Versions\n",
        "\n",
        "There are currently two different supported versions of Python, 2.7 and 3.5. Somewhat confusingly, Python 3.0 introduced many backwards-incompatible changes to the language, so code written for 2.7 may not work under 3.5 and vice versa. For this class all code will use Python 3.5 or higher.\n",
        "\n",
        "You can check your Python version at the command line by running `python --version`\n"
      ]
    },
    {
      "cell_type": "code",
      "metadata": {
        "id": "83uo1kNDhaoU",
        "colab_type": "code",
        "colab": {
          "base_uri": "https://localhost:8080/",
          "height": 34
        },
        "outputId": "ebdf8f17-d243-4408-d9c0-130d42320c26"
      },
      "source": [
        "!python --version"
      ],
      "execution_count": 1,
      "outputs": [
        {
          "output_type": "stream",
          "text": [
            "Python 3.6.9\n"
          ],
          "name": "stdout"
        }
      ]
    },
    {
      "cell_type": "markdown",
      "metadata": {
        "id": "_6vYrEaCi1Ml",
        "colab_type": "text"
      },
      "source": [
        "## Basic data types\n",
        "\n",
        "Like most languages, Python has a number of basic types including integers, floats, booleans, and strings. These data types behave in ways that are familiar from other programming languages.\n",
        "\n",
        "**Numbers**: Integers and floats work as you would expect from other languages:"
      ]
    },
    {
      "cell_type": "code",
      "metadata": {
        "id": "MTxgJLRchuwK",
        "colab_type": "code",
        "colab": {
          "base_uri": "https://localhost:8080/",
          "height": 209
        },
        "outputId": "47ee251a-b7cd-40e6-dcbd-00c96dba4914"
      },
      "source": [
        "x = 37 # Initial Value of x\n",
        "print(type(x)) # Prints \"<class 'int'>\"\n",
        "print(x)       # Prints \"3\"\n",
        "print(x + 1)   # Addition; prints \"4\"\n",
        "print(x - 1)   # Subtraction; prints \"2\"\n",
        "print(x * 2)   # Multiplication; prints \"6\"\n",
        "print(x ** 2)  # Exponentiation; prints \"9\"\n",
        "x += 1\n",
        "print(x)  # Prints \"4\"\n",
        "x *= 2\n",
        "print(x)  # Prints \"8\"\n",
        "y = 2.5\n",
        "print(type(y)) # Prints \"<class 'float'>\"\n",
        "print(y, y + 1, y * 2, y ** 2) # Prints \"2.5 3.5 5.0 6.25\"\n",
        "\n",
        "x = x * y + x + y # Final value of x\n",
        "print(\"Final Value of x is:\", x)"
      ],
      "execution_count": 10,
      "outputs": [
        {
          "output_type": "stream",
          "text": [
            "<class 'int'>\n",
            "37\n",
            "38\n",
            "36\n",
            "74\n",
            "1369\n",
            "38\n",
            "76\n",
            "<class 'float'>\n",
            "2.5 3.5 5.0 6.25\n",
            "Final Value of x is: 268.5\n"
          ],
          "name": "stdout"
        }
      ]
    },
    {
      "cell_type": "markdown",
      "metadata": {
        "id": "0IIODSSfjaCd",
        "colab_type": "text"
      },
      "source": [
        "# Quiz Question 1\n",
        "With what integer value shall x be initialized as, such that Final Value of x is 268.5? Please mention the answer in INT value without decimal (e.g. 4, 2, 12, etc.).\n",
        "\n",
        "Please answer this question in the Quiz Section.\n",
        "\n",
        "\n",
        "\n",
        "---\n",
        "\n",
        "**Booleans**\n",
        "\n",
        "Python implements all of the usual operators for Boolean logic, but uses English words rather than symbols (&&, ||, etc.):\n",
        "\n"
      ]
    },
    {
      "cell_type": "code",
      "metadata": {
        "id": "71wNg5mgi-th",
        "colab_type": "code",
        "colab": {
          "base_uri": "https://localhost:8080/",
          "height": 122
        },
        "outputId": "3758ef28-3c33-40fc-9fcd-c2eac1757194"
      },
      "source": [
        "t = True\n",
        "f = False\n",
        "print(type(t)) # Prints \"<class 'bool'>\"\n",
        "print(t and f) # Logical AND; prints \"False\"\n",
        "print(t or f)  # Logical OR; prints \"True\"\n",
        "print(not t)   # Logical NOT; prints \"False\"\n",
        "print(t != f)  # Logical XOR; prints \"True\"\n",
        "print( not ( not t + f * t))"
      ],
      "execution_count": 18,
      "outputs": [
        {
          "output_type": "stream",
          "text": [
            "<class 'bool'>\n",
            "False\n",
            "True\n",
            "False\n",
            "True\n",
            "True\n"
          ],
          "name": "stdout"
        }
      ]
    },
    {
      "cell_type": "markdown",
      "metadata": {
        "id": "JM1p20Yml9gI",
        "colab_type": "text"
      },
      "source": [
        "# Quiz Question 2\n",
        "What is the value of \n",
        "\n",
        "```\n",
        "not ( not t + f * t)\n",
        "```\n",
        "if executed after the code block above?\n",
        "\n"
      ]
    },
    {
      "cell_type": "markdown",
      "metadata": {
        "id": "eDZGqwnam36m",
        "colab_type": "text"
      },
      "source": [
        "\n",
        "**Strings**\n",
        "\n",
        "Python has great support for strings:"
      ]
    },
    {
      "cell_type": "code",
      "metadata": {
        "id": "RLLlfEVSlg4A",
        "colab_type": "code",
        "colab": {
          "base_uri": "https://localhost:8080/",
          "height": 104
        },
        "outputId": "59125588-f33d-478c-b2b5-c15a98482308"
      },
      "source": [
        "hello = 'hello'    # String literals can use single quotes\n",
        "world = \"world\"    # or double quotes; it does not matter.\n",
        "print(hello)       # Prints \"hello\"\n",
        "print(len(hello))  # String length; prints \"5\"\n",
        "hw = hello + ' ' + world  # String concatenation\n",
        "print(hw)  # prints \"hello world\"\n",
        "hw6 = '%s %s %d' % (hello, world, 6)  # sprintf style string formatting\n",
        "print(hw6)  # prints \"hello world 6\"\n",
        "\n",
        "location = 12\n",
        "print(hw6[location])"
      ],
      "execution_count": 20,
      "outputs": [
        {
          "output_type": "stream",
          "text": [
            "hello\n",
            "5\n",
            "hello world\n",
            "hello world 6\n",
            "6\n"
          ],
          "name": "stdout"
        }
      ]
    },
    {
      "cell_type": "markdown",
      "metadata": {
        "id": "bxRbRr7jng8C",
        "colab_type": "text"
      },
      "source": [
        "# Quiz Question 3\n",
        "\n",
        "What should be the value of \"location\" such that print(hw6[location]) prints 6?"
      ]
    },
    {
      "cell_type": "markdown",
      "metadata": {
        "id": "rwkFgdCSn4th",
        "colab_type": "text"
      },
      "source": [
        "## Containers\n",
        "\n",
        "Python includes several built-in container types: lists, dictionaries,sets, and tuples.\n",
        "\n",
        "**Lists**\n",
        "A list is the Python equivalent of an array, but is resizeable and can contain elements of different types:\n",
        "\n"
      ]
    },
    {
      "cell_type": "code",
      "metadata": {
        "id": "UBa5s5SYnNoT",
        "colab_type": "code",
        "colab": {
          "base_uri": "https://localhost:8080/",
          "height": 104
        },
        "outputId": "919b0976-abc2-4c8d-e46d-c55b4e4f5f6e"
      },
      "source": [
        "xs = [3, 1, 2]    # Create a list\n",
        "print(xs, xs[2])  # Prints \"[3, 1, 2] 2\"\n",
        "print(xs[-1])     # Negative indices count from the end of the list; prints \"2\"\n",
        "xs[2] = 'foo'     # Lists can contain elements of different types\n",
        "print(xs)         # Prints \"[3, 1, 'foo']\"\n",
        "xs.append('bar')  # Add a new element to the end of the list\n",
        "print(xs)         # Prints \"[3, 1, 'foo', 'bar']\"\n",
        "x = xs.pop()      # Remove and return the last element of the list\n",
        "print(x, xs)      # Prints \"bar [3, 1, 'foo']\""
      ],
      "execution_count": 21,
      "outputs": [
        {
          "output_type": "stream",
          "text": [
            "[3, 1, 2] 2\n",
            "2\n",
            "[3, 1, 'foo']\n",
            "[3, 1, 'foo', 'bar']\n",
            "bar [3, 1, 'foo']\n"
          ],
          "name": "stdout"
        }
      ]
    },
    {
      "cell_type": "code",
      "metadata": {
        "id": "uSOQA85xoEU9",
        "colab_type": "code",
        "colab": {
          "base_uri": "https://localhost:8080/",
          "height": 157
        },
        "outputId": "6d38faea-db17-4d5a-a0a5-23901527142f"
      },
      "source": [
        "rng = 9\n",
        "nums = list(range(rng))     # range is a built-in function that creates a list of integers\n",
        "print(nums)               # Prints \"[0, 1, 2, 3, 4]\"\n",
        "print(nums[2:4])          # Get a slice from index 2 to 4 (exclusive); prints \"[2, 3]\"\n",
        "print(nums[2:])           # Get a slice from index 2 to the end; prints \"[2, 3, 4]\"\n",
        "print(nums[:2])           # Get a slice from the start to index 2 (exclusive); prints \"[0, 1]\"\n",
        "print(nums[:])            # Get a slice of the whole list; prints \"[0, 1, 2, 3, 4]\"\n",
        "print(nums[:-1])          # Slice indices can be negative; prints \"[0, 1, 2, 3]\"\n",
        "nums[2:4] = [8, 9]        # Assign a new sublist to a slice\n",
        "print(nums)               # Prints \"[0, 1, 8, 9, 4]\"\n",
        "print(sum(nums))"
      ],
      "execution_count": 23,
      "outputs": [
        {
          "output_type": "stream",
          "text": [
            "[0, 1, 2, 3, 4, 5, 6, 7, 8]\n",
            "[2, 3]\n",
            "[2, 3, 4, 5, 6, 7, 8]\n",
            "[0, 1]\n",
            "[0, 1, 2, 3, 4, 5, 6, 7, 8]\n",
            "[0, 1, 2, 3, 4, 5, 6, 7]\n",
            "[0, 1, 8, 9, 4, 5, 6, 7, 8]\n",
            "48\n"
          ],
          "name": "stdout"
        }
      ]
    },
    {
      "cell_type": "markdown",
      "metadata": {
        "id": "CEZWL3raol4N",
        "colab_type": "text"
      },
      "source": [
        "# Quiz Question 4\n",
        "\n",
        "What should be the value of rng, such that print(sum(nums)) prints 48?"
      ]
    },
    {
      "cell_type": "markdown",
      "metadata": {
        "id": "KZ209w-wpD13",
        "colab_type": "text"
      },
      "source": [
        "**Loops**\n",
        "\n",
        "You can loop over elements of a list like this:\n"
      ]
    },
    {
      "cell_type": "code",
      "metadata": {
        "id": "Zaus1Jfqoej1",
        "colab_type": "code",
        "colab": {
          "base_uri": "https://localhost:8080/",
          "height": 69
        },
        "outputId": "adbcfb4d-5238-4329-f328-ddc19b599efc"
      },
      "source": [
        "animals = ['cat', 'dog', 'monkey']\n",
        "for animal in animals:\n",
        "    print(animal)"
      ],
      "execution_count": 24,
      "outputs": [
        {
          "output_type": "stream",
          "text": [
            "cat\n",
            "dog\n",
            "monkey\n"
          ],
          "name": "stdout"
        }
      ]
    },
    {
      "cell_type": "markdown",
      "metadata": {
        "id": "1RaBN3jYpX1f",
        "colab_type": "text"
      },
      "source": [
        "If you want access to the index of each element within the body of a loop, use the built-in `enumerate` function:"
      ]
    },
    {
      "cell_type": "code",
      "metadata": {
        "id": "QmkdTkicpJ9y",
        "colab_type": "code",
        "colab": {
          "base_uri": "https://localhost:8080/",
          "height": 69
        },
        "outputId": "c5ad9d15-294c-45b5-8b13-fcfa7c2da9ea"
      },
      "source": [
        "animals = ['cat', 'dog', 'monkey']\n",
        "for idx, animal in enumerate(animals):\n",
        "    print('#%d: %s' % (idx + 1, animal))"
      ],
      "execution_count": 25,
      "outputs": [
        {
          "output_type": "stream",
          "text": [
            "#1: cat\n",
            "#2: dog\n",
            "#3: monkey\n"
          ],
          "name": "stdout"
        }
      ]
    },
    {
      "cell_type": "markdown",
      "metadata": {
        "id": "xoMtCthyphX6",
        "colab_type": "text"
      },
      "source": [
        "**List comprehensions**\n",
        "\n",
        "When programming, frequently we want to transform one type of data into another. As a simple example, consider the following code that computes square numbers:"
      ]
    },
    {
      "cell_type": "code",
      "metadata": {
        "id": "OQscx7VMpawj",
        "colab_type": "code",
        "colab": {
          "base_uri": "https://localhost:8080/",
          "height": 34
        },
        "outputId": "fddb6e04-27ee-455e-db11-2259efe2d2f7"
      },
      "source": [
        "rng2 = 7\n",
        "nums = range(rng2)\n",
        "squares = []\n",
        "for x in nums:\n",
        "    squares.append(x ** 2)\n",
        "print(sum(squares))"
      ],
      "execution_count": 28,
      "outputs": [
        {
          "output_type": "stream",
          "text": [
            "91\n"
          ],
          "name": "stdout"
        }
      ]
    },
    {
      "cell_type": "markdown",
      "metadata": {
        "id": "51YLXn81p45I",
        "colab_type": "text"
      },
      "source": [
        "# Quiz Question 5\n",
        "What should be the value of rng2, such that the code block above prints 91?"
      ]
    },
    {
      "cell_type": "markdown",
      "metadata": {
        "id": "yRS97sf2qelf",
        "colab_type": "text"
      },
      "source": [
        "You can make this code simpler using a **list comprehension**:"
      ]
    },
    {
      "cell_type": "code",
      "metadata": {
        "id": "23oZl87VponY",
        "colab_type": "code",
        "colab": {
          "base_uri": "https://localhost:8080/",
          "height": 34
        },
        "outputId": "92620324-5d44-4cdd-93e1-12e5a37789ed"
      },
      "source": [
        "nums = [0, 1, 2, 3, 4]\n",
        "squares = [x ** 2 for x in nums]\n",
        "print(squares) "
      ],
      "execution_count": 29,
      "outputs": [
        {
          "output_type": "stream",
          "text": [
            "[0, 1, 4, 9, 16]\n"
          ],
          "name": "stdout"
        }
      ]
    },
    {
      "cell_type": "markdown",
      "metadata": {
        "id": "5OjCcNtXqj8v",
        "colab_type": "text"
      },
      "source": [
        "List comprehensions can also contain **conditions**:"
      ]
    },
    {
      "cell_type": "code",
      "metadata": {
        "id": "9DFWQ0Paqlxb",
        "colab_type": "code",
        "colab": {
          "base_uri": "https://localhost:8080/",
          "height": 34
        },
        "outputId": "5b65baf3-af5c-4c4d-e1cb-80a6b4dcb4e8"
      },
      "source": [
        "rng3 = 13\n",
        "nums = range(rng3)\n",
        "even_squares = [x ** 2 for x in nums if x % 2 == 0]\n",
        "print(sum(even_squares))"
      ],
      "execution_count": 33,
      "outputs": [
        {
          "output_type": "stream",
          "text": [
            "364\n"
          ],
          "name": "stdout"
        }
      ]
    },
    {
      "cell_type": "markdown",
      "metadata": {
        "id": "-9nL0W3Jq9Uo",
        "colab_type": "text"
      },
      "source": [
        "# Quiz Question 6\n",
        "\n",
        "What is the **sum of the two values** to which rng3 can be set such that the output above is 364?"
      ]
    },
    {
      "cell_type": "markdown",
      "metadata": {
        "id": "rqy0ypQKrnb_",
        "colab_type": "text"
      },
      "source": [
        "## Dictionaries\n",
        "\n",
        "A dictionary stores (key, value) pairs, similar to a `Map` in Java or an object in Javascript. You can use it like this:"
      ]
    },
    {
      "cell_type": "code",
      "metadata": {
        "id": "S-obxQS9quER",
        "colab_type": "code",
        "colab": {
          "base_uri": "https://localhost:8080/",
          "height": 122
        },
        "outputId": "73fb46fe-f958-465d-856b-1faf5f16fe18"
      },
      "source": [
        "d = {'cat': 'cute', 'dog': 'furry'}  # Create a new dictionary with some data\n",
        "print(d['cat'])       # Get an entry from a dictionary; prints \"cute\"\n",
        "print('cat' in d)     # Check if a dictionary has a given key; prints \"True\"\n",
        "d['fish'] = 'wet'     # Set an entry in a dictionary\n",
        "print(d['fish'])      # Prints \"wet\"\n",
        "# print(d['monkey'])  # KeyError: 'monkey' not a key of d\n",
        "print(d.get('monkey', 'N/A'))  # Get an element with a default; prints \"N/A\"\n",
        "print(d.get('fish', 'N/A'))    # Get an element with a default; prints \"wet\"\n",
        "del d['fish']         # Remove an element from a dictionary\n",
        "print(d.get('fish', 'N/A')) # \"fish\" is no longer a key; prints \"N/A\""
      ],
      "execution_count": 34,
      "outputs": [
        {
          "output_type": "stream",
          "text": [
            "cute\n",
            "True\n",
            "wet\n",
            "N/A\n",
            "wet\n",
            "N/A\n"
          ],
          "name": "stdout"
        }
      ]
    },
    {
      "cell_type": "markdown",
      "metadata": {
        "id": "ZY6vTNV5rwDZ",
        "colab_type": "text"
      },
      "source": [
        "**Loops**: It is easy to iterate over the keys in a dictionary:"
      ]
    },
    {
      "cell_type": "code",
      "metadata": {
        "id": "MDs1ZBkerx4p",
        "colab_type": "code",
        "colab": {
          "base_uri": "https://localhost:8080/",
          "height": 69
        },
        "outputId": "3681f775-54bb-4fc3-c537-77dcce4d44ef"
      },
      "source": [
        "d = {'person': 2, 'cat': 4, 'spider': 8}\n",
        "for animal in d:\n",
        "    legs = d[animal]\n",
        "    print('A %s has %d legs' % (animal, legs))"
      ],
      "execution_count": 35,
      "outputs": [
        {
          "output_type": "stream",
          "text": [
            "A person has 2 legs\n",
            "A cat has 4 legs\n",
            "A spider has 8 legs\n"
          ],
          "name": "stdout"
        }
      ]
    },
    {
      "cell_type": "markdown",
      "metadata": {
        "id": "ssuwj7Slr2_l",
        "colab_type": "text"
      },
      "source": [
        "If you want access to keys and their corresponding values, use the `items` method:"
      ]
    },
    {
      "cell_type": "code",
      "metadata": {
        "id": "H3V3iok8rz1Q",
        "colab_type": "code",
        "colab": {
          "base_uri": "https://localhost:8080/",
          "height": 69
        },
        "outputId": "0c0d7dcb-780e-409e-e687-ba0b88f8a6bb"
      },
      "source": [
        "d = {'person': 2, 'cat': 4, 'spider': 8}\n",
        "for animal, legs in d.items():\n",
        "    print('A %s has %d legs' % (animal, legs))"
      ],
      "execution_count": 36,
      "outputs": [
        {
          "output_type": "stream",
          "text": [
            "A person has 2 legs\n",
            "A cat has 4 legs\n",
            "A spider has 8 legs\n"
          ],
          "name": "stdout"
        }
      ]
    },
    {
      "cell_type": "markdown",
      "metadata": {
        "id": "2sLbIbpLsDtC",
        "colab_type": "text"
      },
      "source": [
        "**Dictionary comprehensions**\n",
        "\n",
        "These are similar to list comprehensions, but allow you to easily construct dictionaries. For example:"
      ]
    },
    {
      "cell_type": "code",
      "metadata": {
        "id": "55LbErmbr5uo",
        "colab_type": "code",
        "colab": {
          "base_uri": "https://localhost:8080/",
          "height": 34
        },
        "outputId": "1b30d586-b806-4a54-e43a-684f5d955e42"
      },
      "source": [
        "nums = [0, 1, 2, 3, 4]\n",
        "even_num_to_square = {x: x ** 2 for x in nums if x % 2 == 0}\n",
        "print(even_num_to_square)"
      ],
      "execution_count": 37,
      "outputs": [
        {
          "output_type": "stream",
          "text": [
            "{0: 0, 2: 4, 4: 16}\n"
          ],
          "name": "stdout"
        }
      ]
    },
    {
      "cell_type": "markdown",
      "metadata": {
        "id": "mZEdOdr9sOk9",
        "colab_type": "text"
      },
      "source": [
        "## Sets\n",
        "A set is an unordered collection of distinct elements. As a simple example, consider the following:\n"
      ]
    },
    {
      "cell_type": "code",
      "metadata": {
        "id": "kXzFjXrvsH_n",
        "colab_type": "code",
        "colab": {
          "base_uri": "https://localhost:8080/",
          "height": 122
        },
        "outputId": "bb4ed98f-f254-415a-fd8e-f7edb064f50c"
      },
      "source": [
        "animals = {'cat', 'dog'}\n",
        "print('cat' in animals)   # Check if an element is in a set; prints \"True\"\n",
        "print('fish' in animals)  # prints \"False\"\n",
        "animals.add('fish')       # Add an element to a set\n",
        "print('fish' in animals)  # Prints \"True\"\n",
        "print(len(animals))       # Number of elements in a set; prints \"3\"\n",
        "animals.add('cat')        # Adding an element that is already in the set does nothing\n",
        "print(len(animals))       # Prints \"3\"\n",
        "animals.remove('cat')     # Remove an element from a set\n",
        "print(len(animals))       # Prints \"2\""
      ],
      "execution_count": 38,
      "outputs": [
        {
          "output_type": "stream",
          "text": [
            "True\n",
            "False\n",
            "True\n",
            "3\n",
            "3\n",
            "2\n"
          ],
          "name": "stdout"
        }
      ]
    },
    {
      "cell_type": "markdown",
      "metadata": {
        "id": "dfzd9kD3sVsh",
        "colab_type": "text"
      },
      "source": [
        "## Functions\n",
        "\n",
        "\n",
        "Python functions are defined using the def keyword. For example:"
      ]
    },
    {
      "cell_type": "code",
      "metadata": {
        "id": "IrAFUE-AsR9K",
        "colab_type": "code",
        "colab": {
          "base_uri": "https://localhost:8080/",
          "height": 69
        },
        "outputId": "044f7640-a9c5-4e8c-c38c-8d81d7d9beac"
      },
      "source": [
        "def sign(x):\n",
        "    if x > 0:\n",
        "        return 'positive'\n",
        "    elif x < 0:\n",
        "        return 'negative'\n",
        "    else:\n",
        "        return 'zero'\n",
        "\n",
        "for x in [-1, 0, 1]:\n",
        "    print(sign(x))"
      ],
      "execution_count": 39,
      "outputs": [
        {
          "output_type": "stream",
          "text": [
            "negative\n",
            "zero\n",
            "positive\n"
          ],
          "name": "stdout"
        }
      ]
    },
    {
      "cell_type": "markdown",
      "metadata": {
        "id": "RohxLiO0sd4X",
        "colab_type": "text"
      },
      "source": [
        "We will often define functions to take optional keyword arguments, like this:"
      ]
    },
    {
      "cell_type": "code",
      "metadata": {
        "id": "LnMrX3ONsavI",
        "colab_type": "code",
        "colab": {
          "base_uri": "https://localhost:8080/",
          "height": 52
        },
        "outputId": "14e9f62b-15e9-4cfc-ba5a-69f4888a8fa5"
      },
      "source": [
        "def hello(name, loud=False):\n",
        "    if loud:\n",
        "        print('HELLO, %s!' % name.upper())\n",
        "    else:\n",
        "        print('Hello, %s' % name)\n",
        "\n",
        "hello('Bob') # Prints \"Hello, Bob\"\n",
        "hello('Fred', loud=True)  # Prints \"HELLO, FRED!\""
      ],
      "execution_count": 40,
      "outputs": [
        {
          "output_type": "stream",
          "text": [
            "Hello, Bob\n",
            "HELLO, FRED!\n"
          ],
          "name": "stdout"
        }
      ]
    },
    {
      "cell_type": "markdown",
      "metadata": {
        "id": "1LbAt_RSsipu",
        "colab_type": "text"
      },
      "source": [
        "## Classes\n",
        "\n",
        "The syntax for defining classes in Python is straightforward:\n"
      ]
    },
    {
      "cell_type": "code",
      "metadata": {
        "id": "glAkPfN1sfci",
        "colab_type": "code",
        "colab": {
          "base_uri": "https://localhost:8080/",
          "height": 52
        },
        "outputId": "4e5ba27c-8bac-46ab-809b-bafabfcd7214"
      },
      "source": [
        "class Greeter(object):\n",
        "\n",
        "    # Constructor\n",
        "    def __init__(self, name):\n",
        "        self.name = name  # Create an instance variable\n",
        "\n",
        "    # Instance method\n",
        "    def greet(self, loud=False):\n",
        "        if loud:\n",
        "            print('HELLO, %s!' % self.name.upper())\n",
        "        else:\n",
        "            print('Hello, %s' % self.name)\n",
        "\n",
        "g = Greeter('Fred')  # Construct an instance of the Greeter class\n",
        "g.greet()            # Call an instance method; prints \"Hello, Fred\"\n",
        "g.greet(loud=False)   # Call an instance method; prints \"HELLO, FRED!\""
      ],
      "execution_count": 42,
      "outputs": [
        {
          "output_type": "stream",
          "text": [
            "Hello, Fred\n",
            "Hello, Fred\n"
          ],
          "name": "stdout"
        }
      ]
    },
    {
      "cell_type": "markdown",
      "metadata": {
        "id": "9jXYX9nvsxMV",
        "colab_type": "text"
      },
      "source": [
        "# Quiz Question 7\n",
        "\n",
        "What does g.greet(lout=False) prints above?"
      ]
    },
    {
      "cell_type": "markdown",
      "metadata": {
        "id": "gRXVgzSFtHfT",
        "colab_type": "text"
      },
      "source": [
        "# Numpy\n",
        "\n",
        "\n",
        "Numpy is the core library for scientific computing in Python. It provides a high-performance multidimensional array object, and tools for working with these arrays. If you are already familiar with MATLAB, you might find [this tutorial](https://docs.scipy.org/doc/numpy/user/numpy-for-matlab-users.html) useful to get started with Numpy.\n",
        "\n",
        "\n",
        "\n",
        "---\n",
        "\n",
        "\n",
        "Arrays\n",
        "A numpy array is a grid of values, all of the same type, and is indexed by a tuple of nonnegative integers. The number of dimensions is the rank of the array; the shape of an array is a tuple of integers giving the size of the array along each dimension.\n",
        "\n",
        "We can initialize numpy arrays from nested Python lists, and access elements using square brackets:\n"
      ]
    },
    {
      "cell_type": "code",
      "metadata": {
        "id": "wUDXZDEfsuiD",
        "colab_type": "code",
        "colab": {
          "base_uri": "https://localhost:8080/",
          "height": 192
        },
        "outputId": "ab77958d-8aee-44c7-9449-8b5062805e93"
      },
      "source": [
        "import numpy as np\n",
        "\n",
        "a = np.array([1, 2, 3])   # Create a rank 1 array\n",
        "print(type(a))            # Prints \"<class 'numpy.ndarray'>\"\n",
        "print(a.shape)            # Prints \"(3,)\"\n",
        "print(a[0], a[1], a[2])   # Prints \"1 2 3\"\n",
        "a[0] = 15                  # Change an element of the array\n",
        "print(a)                  # Prints \"[5, 2, 3]\"\n",
        "\n",
        "b = np.array([[1,2,3],[4,5,6]])    # Create a rank 2 array\n",
        "print(b.shape)                     # Prints \"(2, 3)\"\n",
        "print(b[0, 0], b[0, 1], b[1, 0])   # Prints \"1 2 4\"\n",
        "print(sum(a))\n",
        "print(sum(b))\n",
        "print(sum(a)*sum(b))\n",
        "print(sum(sum(a)*sum(b)))"
      ],
      "execution_count": 48,
      "outputs": [
        {
          "output_type": "stream",
          "text": [
            "<class 'numpy.ndarray'>\n",
            "(3,)\n",
            "1 2 3\n",
            "[15  2  3]\n",
            "(2, 3)\n",
            "1 2 4\n",
            "20\n",
            "[5 7 9]\n",
            "[100 140 180]\n",
            "420\n"
          ],
          "name": "stdout"
        }
      ]
    },
    {
      "cell_type": "markdown",
      "metadata": {
        "id": "hLNB0LKjtsiG",
        "colab_type": "text"
      },
      "source": [
        "# Quiz Question 8\n",
        "\n",
        "What should a[0] be set equal to such that print(sum(sum(a)*sum(b))) prints 420?\n",
        "\n",
        "\n",
        "\n",
        "\n",
        "---\n",
        "\n",
        "\n",
        "Numpy also provides many functions to create arrays:\n"
      ]
    },
    {
      "cell_type": "code",
      "metadata": {
        "id": "uQQ1uhHGtdgd",
        "colab_type": "code",
        "colab": {
          "base_uri": "https://localhost:8080/",
          "height": 192
        },
        "outputId": "a1449499-3743-4fb5-c0a0-904a1d98c76a"
      },
      "source": [
        "import numpy as np\n",
        "\n",
        "a = np.zeros((2,2))   # Create an array of all zeros\n",
        "print(a)              # Prints \"[[ 0.  0.]\n",
        "                      #          [ 0.  0.]]\"\n",
        "\n",
        "b = np.ones((1,2))    # Create an array of all ones\n",
        "print(b)              # Prints \"[[ 1.  1.]]\"\n",
        "\n",
        "c = np.full((2,2), 7)  # Create a constant array\n",
        "print(c)               # Prints \"[[ 7.  7.]\n",
        "                       #          [ 7.  7.]]\"\n",
        "\n",
        "d = np.eye(2)         # Create a 2x2 identity matrix\n",
        "print(d)              # Prints \"[[ 1.  0.]\n",
        "                      #          [ 0.  1.]]\"\n",
        "\n",
        "e = np.random.random((2,2))  # Create an array filled with random values\n",
        "print(e)                     # Might print \"[[ 0.91940167  0.08143941]\n",
        "                             #               [ 0.68744134  0.87236687]]\"\n",
        "print(np.prod(e))"
      ],
      "execution_count": 52,
      "outputs": [
        {
          "output_type": "stream",
          "text": [
            "[[0. 0.]\n",
            " [0. 0.]]\n",
            "[[1. 1.]]\n",
            "[[7 7]\n",
            " [7 7]]\n",
            "[[1. 0.]\n",
            " [0. 1.]]\n",
            "[[0.36395339 0.63955591]\n",
            " [0.65749473 0.41702916]]\n",
            "0.0638238477163862\n"
          ],
          "name": "stdout"
        }
      ]
    },
    {
      "cell_type": "markdown",
      "metadata": {
        "id": "Y7UF8HPuujzV",
        "colab_type": "text"
      },
      "source": [
        "# Quiz Question 9\n",
        "\n",
        "Is it guaranteed that print(np.prod(e)) will always be less than 1?"
      ]
    },
    {
      "cell_type": "markdown",
      "metadata": {
        "id": "8ozSHrmzuzay",
        "colab_type": "text"
      },
      "source": [
        "## Array indexing\n",
        "\n",
        "Numpy offers several ways to index into arrays.\n",
        "\n",
        "**Slicing**\n",
        "Similar to Python lists, numpy arrays can be sliced. Since arrays may be multidimensional, you must specify a slice for each dimension of the array:"
      ]
    },
    {
      "cell_type": "code",
      "metadata": {
        "id": "QypVe8W6t_Y2",
        "colab_type": "code",
        "colab": {
          "base_uri": "https://localhost:8080/",
          "height": 69
        },
        "outputId": "806f1021-46e3-487c-a6c8-ca3e83cc9781"
      },
      "source": [
        "import numpy as np\n",
        "\n",
        "# Create the following rank 2 array with shape (3, 4)\n",
        "# [[ 1  2  3  4]\n",
        "#  [ 5  6  7  8]\n",
        "#  [ 9 10 11 12]]\n",
        "a = np.array([[1,2,3,4], [5,6,7,8], [9,10,11,12]])\n",
        "a[0, 0] = 4\n",
        "\n",
        "# Use slicing to pull out the subarray consisting of the first 2 rows\n",
        "# and columns 1 and 2; b is the following array of shape (2, 2):\n",
        "# [[2 3]\n",
        "#  [6 7]]\n",
        "b = a[:2, 1:3]\n",
        "\n",
        "# A slice of an array is a view into the same data, so modifying it\n",
        "# will modify the original array.\n",
        "print(a[0, 1])   # Prints \"2\"\n",
        "b[0, 0] = 77     # b[0, 0] is the same piece of data as a[0, 1]\n",
        "print(a[0, 1])   # Prints \"77\"\n",
        "\n",
        "c = a[:1, 2:4]\n",
        "c[0, 0] = 99\n",
        "print(a[0, 2]) "
      ],
      "execution_count": 114,
      "outputs": [
        {
          "output_type": "stream",
          "text": [
            "2\n",
            "77\n",
            "99\n"
          ],
          "name": "stdout"
        }
      ]
    },
    {
      "cell_type": "markdown",
      "metadata": {
        "id": "QEoDyYAmwA0J",
        "colab_type": "text"
      },
      "source": [
        "# Quiz Question 10\n",
        "At which index of a, 99 values is stored? See quiz for options. "
      ]
    },
    {
      "cell_type": "markdown",
      "metadata": {
        "id": "phzn_89Iwk0I",
        "colab_type": "text"
      },
      "source": [
        "You can also mix integer indexing with slice indexing. However, doing so will yield an array of lower rank than the original array. Note that this is quite different from the way that MATLAB handles array slicing:"
      ]
    },
    {
      "cell_type": "code",
      "metadata": {
        "id": "AlkFtgkUvGFz",
        "colab_type": "code",
        "colab": {
          "base_uri": "https://localhost:8080/",
          "height": 122
        },
        "outputId": "e74058b8-26bd-4fa8-9265-bca2d1e6df98"
      },
      "source": [
        "import numpy as np\n",
        "\n",
        "# Create the following rank 2 array with shape (3, 4)\n",
        "# [[ 1  2  3  4]\n",
        "#  [ 5  6  7  8]\n",
        "#  [ 9 10 11 12]]\n",
        "a = np.array([[1,2,3,4], [5,6,7,8], [9,10,11,12]])\n",
        "\n",
        "# Two ways of accessing the data in the middle row of the array.\n",
        "# Mixing integer indexing with slices yields an array of lower rank,\n",
        "# while using only slices yields an array of the same rank as the\n",
        "# original array:\n",
        "row_r1 = a[1, :]    # Rank 1 view of the second row of a\n",
        "row_r2 = a[1:2, :]  # Rank 2 view of the second row of a\n",
        "print(row_r1, row_r1.shape)  # Prints \"[5 6 7 8] (4,)\"\n",
        "print(row_r2, row_r2.shape)  # Prints \"[[5 6 7 8]] (1, 4)\"\n",
        "\n",
        "# We can make the same distinction when accessing columns of an array:\n",
        "col_r1 = a[:, 1]\n",
        "col_r2 = a[:, 1:2]\n",
        "print(col_r1, col_r1.shape)  # Prints \"[ 2  6 10] (3,)\"\n",
        "print(col_r2, col_r2.shape)  # Prints \"[[ 2]\n",
        "                             #          [ 6]\n",
        "                             #          [10]] (3, 1)\""
      ],
      "execution_count": 56,
      "outputs": [
        {
          "output_type": "stream",
          "text": [
            "[5 6 7 8] (4,)\n",
            "[[5 6 7 8]] (1, 4)\n",
            "[ 2  6 10] (3,)\n",
            "[[ 2]\n",
            " [ 6]\n",
            " [10]] (3, 1)\n"
          ],
          "name": "stdout"
        }
      ]
    },
    {
      "cell_type": "markdown",
      "metadata": {
        "id": "-8ya9ZHlwqK7",
        "colab_type": "text"
      },
      "source": [
        "Integer array indexing: When you index into numpy arrays using slicing, the resulting array view will always be a subarray of the original array. In contrast, integer array indexing allows you to construct arbitrary arrays using the data from another array. Here is an example:"
      ]
    },
    {
      "cell_type": "code",
      "metadata": {
        "id": "Knk1HhLownX8",
        "colab_type": "code",
        "colab": {}
      },
      "source": [
        "import numpy as np\n",
        "\n",
        "a = np.array([[1,2], [3, 4], [5, 6]])\n",
        "\n",
        "# An example of integer array indexing.\n",
        "# The returned array will have shape (3,) and\n",
        "print(a[[0, 1, 2], [0, 1, 0]])  # Prints \"[1 4 5]\"\n",
        "\n",
        "# The above example of integer array indexing is equivalent to this:\n",
        "print(np.array([a[0, 0], a[1, 1], a[2, 0]]))  # Prints \"[1 4 5]\"\n",
        "\n",
        "# When using integer array indexing, you can reuse the same\n",
        "# element from the source array:\n",
        "print(a[[0, 0], [1, 1]])  # Prints \"[2 2]\"\n",
        "\n",
        "# Equivalent to the previous integer array indexing example\n",
        "print(np.array([a[0, 1], a[0, 1]]))  # Prints \"[2 2]\""
      ],
      "execution_count": 0,
      "outputs": []
    },
    {
      "cell_type": "markdown",
      "metadata": {
        "id": "pPY2c_kBw4tV",
        "colab_type": "text"
      },
      "source": [
        "## Datatypes\n",
        "\n",
        "Every numpy array is a grid of elements of the same type. Numpy provides a large set of numeric datatypes that you can use to construct arrays. Numpy tries to guess a datatype when you create an array, but functions that construct arrays usually also include an optional argument to explicitly specify the datatype. Here is an example:"
      ]
    },
    {
      "cell_type": "code",
      "metadata": {
        "id": "QX4zPCdTwsb6",
        "colab_type": "code",
        "colab": {}
      },
      "source": [
        "import numpy as np\n",
        "\n",
        "x = np.array([1, 2])   # Let numpy choose the datatype\n",
        "print(x.dtype)         # Prints \"int64\"\n",
        "\n",
        "x = np.array([1.0, 2.0])   # Let numpy choose the datatype\n",
        "print(x.dtype)             # Prints \"float64\"\n",
        "\n",
        "x = np.array([1, 2], dtype=np.int64)   # Force a particular datatype\n",
        "print(x.dtype)                         # Prints \"int64\""
      ],
      "execution_count": 0,
      "outputs": []
    },
    {
      "cell_type": "markdown",
      "metadata": {
        "id": "LFa1S7jWw-vK",
        "colab_type": "text"
      },
      "source": [
        "## Array math\n",
        "\n",
        "Basic mathematical functions operate elementwise on arrays, and are available both as operator overloads and as functions in the numpy module:"
      ]
    },
    {
      "cell_type": "code",
      "metadata": {
        "id": "ZgAIP41Tw81b",
        "colab_type": "code",
        "colab": {
          "base_uri": "https://localhost:8080/",
          "height": 332
        },
        "outputId": "5b0c5da7-0110-4087-f550-35e5cb82d0e0"
      },
      "source": [
        "import numpy as np\n",
        "\n",
        "x = np.array([[1,2],[3,4]], dtype=np.float64)\n",
        "y = np.array([[5,6],[7,8]], dtype=np.float64)\n",
        "\n",
        "# Elementwise sum; both produce the array\n",
        "# [[ 6.0  8.0]\n",
        "#  [10.0 12.0]]\n",
        "print(x + y)\n",
        "print(np.add(x, y))\n",
        "\n",
        "# Elementwise difference; both produce the array\n",
        "# [[-4.0 -4.0]\n",
        "#  [-4.0 -4.0]]\n",
        "print(x - y)\n",
        "print(np.subtract(x, y))\n",
        "\n",
        "# Elementwise product; both produce the array\n",
        "# [[ 5.0 12.0]\n",
        "#  [21.0 32.0]]\n",
        "print(x * y)\n",
        "print(np.multiply(x, y))\n",
        "\n",
        "# Elementwise division; both produce the array\n",
        "# [[ 0.2         0.33333333]\n",
        "#  [ 0.42857143  0.5       ]]\n",
        "print(x / y)\n",
        "print(np.divide(x, y))\n",
        "\n",
        "# Elementwise square root; produces the array\n",
        "# [[ 1.          1.41421356]\n",
        "#  [ 1.73205081  2.        ]]\n",
        "print(np.sqrt(x))"
      ],
      "execution_count": 57,
      "outputs": [
        {
          "output_type": "stream",
          "text": [
            "[[ 6.  8.]\n",
            " [10. 12.]]\n",
            "[[ 6.  8.]\n",
            " [10. 12.]]\n",
            "[[-4. -4.]\n",
            " [-4. -4.]]\n",
            "[[-4. -4.]\n",
            " [-4. -4.]]\n",
            "[[ 5. 12.]\n",
            " [21. 32.]]\n",
            "[[ 5. 12.]\n",
            " [21. 32.]]\n",
            "[[0.2        0.33333333]\n",
            " [0.42857143 0.5       ]]\n",
            "[[0.2        0.33333333]\n",
            " [0.42857143 0.5       ]]\n",
            "[[1.         1.41421356]\n",
            " [1.73205081 2.        ]]\n"
          ],
          "name": "stdout"
        }
      ]
    },
    {
      "cell_type": "markdown",
      "metadata": {
        "id": "7MnEOHMGxOUx",
        "colab_type": "text"
      },
      "source": [
        "Note that unlike MATLAB, `*` is elementwise multiplication, not matrix multiplication. We instead use the dot function to compute inner products of vectors, to multiply a vector by a matrix, and to multiply matrices. dot is available both as a function in the numpy module and as an instance method of array objects:"
      ]
    },
    {
      "cell_type": "code",
      "metadata": {
        "id": "5Hw97GNpxC8f",
        "colab_type": "code",
        "colab": {
          "base_uri": "https://localhost:8080/",
          "height": 227
        },
        "outputId": "1204b193-02e3-444b-c6ac-cc20058339e8"
      },
      "source": [
        "import numpy as np\n",
        "\n",
        "x = np.array([[1,2],[3,4]])\n",
        "y = np.array([[5,6],[7,8]])\n",
        "\n",
        "v = np.array([9,10])\n",
        "w = np.array([11, 12])\n",
        "\n",
        "# Inner product of vectors; both produce 219\n",
        "print(v.dot(w))\n",
        "print(np.dot(v, w))\n",
        "\n",
        "# Matrix / vector product; both produce the rank 1 array [29 67]\n",
        "print(x.dot(v))\n",
        "print(np.dot(x, v))\n",
        "\n",
        "# Matrix / matrix product; both produce the rank 2 array\n",
        "# [[19 22]\n",
        "#  [43 50]]\n",
        "print(x.dot(y))\n",
        "print(np.dot(x, y))\n",
        "\n",
        "#print(np.sqrt(x))\n",
        "s = np.sqrt(x)\n",
        "print(y.dot(s))\n",
        "q = y.dot(s)\n",
        "print(np.sum(q))\n",
        "r = np.sqrt(np.sum(q))\n",
        "print(r)"
      ],
      "execution_count": 71,
      "outputs": [
        {
          "output_type": "stream",
          "text": [
            "219\n",
            "219\n",
            "[29 67]\n",
            "[29 67]\n",
            "[[19 22]\n",
            " [43 50]]\n",
            "[[19 22]\n",
            " [43 50]]\n",
            "[[15.39230485 19.07106781]\n",
            " [20.85640646 25.89949494]]\n",
            "81.21927405444143\n",
            "9.012173658693081\n"
          ],
          "name": "stdout"
        }
      ]
    },
    {
      "cell_type": "markdown",
      "metadata": {
        "id": "TqrBwA9yxob5",
        "colab_type": "text"
      },
      "source": [
        "# Quiz Question 11\n",
        "\n",
        "What is the value of the square-root of sum of the dot product between y and the square-root of x? (answer up to 5 decimal points only, e.g. 0.12345)"
      ]
    },
    {
      "cell_type": "markdown",
      "metadata": {
        "id": "Ysu6nTdVyk3r",
        "colab_type": "text"
      },
      "source": [
        "Numpy provides many useful functions for performing computations on arrays; one of the most useful is `sum`:"
      ]
    },
    {
      "cell_type": "code",
      "metadata": {
        "id": "TREMQheFxRSD",
        "colab_type": "code",
        "colab": {
          "base_uri": "https://localhost:8080/",
          "height": 69
        },
        "outputId": "bea0d6f6-925f-4a27-9d00-6a325dbca885"
      },
      "source": [
        "import numpy as np\n",
        "\n",
        "x = np.array([[1,2],[3,4]])\n",
        "\n",
        "print(np.sum(x))  # Compute sum of all elements; prints \"10\"\n",
        "print(np.sum(x, axis=0))  # Compute sum of each column; prints \"[4 6]\"\n",
        "print(np.sum(x, axis=1))  # Compute sum of each row; prints \"[3 7]\"\n",
        "\n",
        "\n",
        "\n",
        "\n",
        "s = "
      ],
      "execution_count": 66,
      "outputs": [
        {
          "output_type": "stream",
          "text": [
            "10\n",
            "[4 6]\n",
            "[3 7]\n"
          ],
          "name": "stdout"
        }
      ]
    },
    {
      "cell_type": "markdown",
      "metadata": {
        "id": "uahkTbYJzIK1",
        "colab_type": "text"
      },
      "source": [
        "# Quiz Question 12\n",
        "\n",
        "What is the sum of all the elements of x and square-root of dot-product of sum of each coloumn of x and sum of each row of x? (answer up to 5 decimal points only, e.g. 0.12345)"
      ]
    },
    {
      "cell_type": "markdown",
      "metadata": {
        "id": "WcrVRbQPzveH",
        "colab_type": "text"
      },
      "source": [
        "## Broadcasting\n",
        "\n",
        "Broadcasting is a powerful mechanism that allows numpy to work with arrays of different shapes when performing arithmetic operations. Frequently we have a smaller array and a larger array, and we want to use the smaller array multiple times to perform some operation on the larger array.\n",
        "\n",
        "For example, suppose that we want to add a constant vector to each row of a matrix. We could do it like this:"
      ]
    },
    {
      "cell_type": "code",
      "metadata": {
        "id": "MtO9pH8qyn9o",
        "colab_type": "code",
        "colab": {}
      },
      "source": [
        "import numpy as np\n",
        "\n",
        "# We will add the vector v to each row of the matrix x,\n",
        "# storing the result in the matrix y\n",
        "x = np.array([[1,2,3], [4,5,6], [7,8,9], [10, 11, 12]])\n",
        "v = np.array([1, 0, 1])\n",
        "y = np.empty_like(x)   # Create an empty matrix with the same shape as x\n",
        "\n",
        "# Add the vector v to each row of the matrix x with an explicit loop\n",
        "for i in range(4):\n",
        "    y[i, :] = x[i, :] + v\n",
        "\n",
        "# Now y is the following\n",
        "# [[ 2  2  4]\n",
        "#  [ 5  5  7]\n",
        "#  [ 8  8 10]\n",
        "#  [11 11 13]]\n",
        "print(y)"
      ],
      "execution_count": 0,
      "outputs": []
    },
    {
      "cell_type": "markdown",
      "metadata": {
        "id": "IFnoEMTMz-hv",
        "colab_type": "text"
      },
      "source": [
        "## Image operations\n",
        "\n",
        "PIL is the Python Imaging Library by Fredrik Lundh and Contributors. You should learn PIL as we would be using it a lot along with PyTorch"
      ]
    },
    {
      "cell_type": "code",
      "metadata": {
        "id": "egyBkthR0hPg",
        "colab_type": "code",
        "colab": {
          "base_uri": "https://localhost:8080/",
          "height": 220
        },
        "outputId": "eaa64ac3-065d-40be-a0dc-6190085f5959"
      },
      "source": [
        "from PIL import Image\n",
        "import requests\n",
        "from io import BytesIO\n",
        "\n",
        "response = requests.get('https://encrypted-tbn0.gstatic.com/images?q=tbn%3AANd9GcRZpTmijaNOH6MmycM_eiPKcEl5mVvbwl7a8YKVGpEEMIanDcSt')\n",
        "img = Image.open(BytesIO(response.content))\n",
        "display(img)"
      ],
      "execution_count": 72,
      "outputs": [
        {
          "output_type": "display_data",
          "data": {
            "image/png": "[encoded data removed]",
            "text/plain": [
              "<PIL.PngImagePlugin.PngImageFile image mode=P size=601x203 at 0x7FD0BC78E9B0>"
            ]
          },
          "metadata": {
            "tags": []
          }
        }
      ]
    },
    {
      "cell_type": "markdown",
      "metadata": {
        "id": "uPvz1COw02YV",
        "colab_type": "text"
      },
      "source": [
        "Copying a subrectangle from an image:"
      ]
    },
    {
      "cell_type": "code",
      "metadata": {
        "id": "ZW3VI_Sw0mJl",
        "colab_type": "code",
        "colab": {
          "base_uri": "https://localhost:8080/",
          "height": 137
        },
        "outputId": "4b4d9d16-1c6e-4451-9496-4c0c0ebc8e62"
      },
      "source": [
        "box1 = (150, 150, 300, 300)\n",
        "box2 = (200, 100, 250, 200)\n",
        "box3 = (100, 0, 200, 200)\n",
        "box4 = (100, 400, 200, 200)\n",
        "box5 = (0, 0, 100, 100)\n",
        "box6 = (200, 0, 200, 200)\n",
        "box7 = (0, 0, 200, 200)\n",
        "box8 = (100, 100, 200, 200)\n",
        "box9 = (100, 250, 400, 300)\n",
        "box7 = (75, 30, 200, 150)\n",
        "region = img.crop(box7)\n",
        "display(region)"
      ],
      "execution_count": 88,
      "outputs": [
        {
          "output_type": "display_data",
          "data": {
            "image/png": "[encoded data removed]",
            "text/plain": [
              "<PIL.Image.Image image mode=P size=125x120 at 0x7FD0BC220240>"
            ]
          },
          "metadata": {
            "tags": []
          }
        }
      ]
    },
    {
      "cell_type": "markdown",
      "metadata": {
        "id": "MA2lphrQcWvW",
        "colab_type": "text"
      },
      "source": [
        "# Quiz Question 13\n",
        "\n",
        "Which box value shall be used in img.crop such that the colorful Python Logo is completely visible?"
      ]
    },
    {
      "cell_type": "markdown",
      "metadata": {
        "id": "38xNwb1td0u3",
        "colab_type": "text"
      },
      "source": [
        "## Playing with images\n"
      ]
    },
    {
      "cell_type": "code",
      "metadata": {
        "id": "nzDtSnzu069u",
        "colab_type": "code",
        "colab": {
          "base_uri": "https://localhost:8080/",
          "height": 423
        },
        "outputId": "2f6d75d9-e228-4125-b2a0-bedaa046f255"
      },
      "source": [
        "from PIL import Image\n",
        "\n",
        "#Let's first convert our png (4 channel, R, G, B , Alpha) image into jpg (3 channel, R, G, B) image.\n",
        "img_jpg = Image.new(\"RGB\", img.size, (255, 255, 255))\n",
        "img_jpg.paste(img)\n",
        "# display jpg image\n",
        "display(img_jpg)\n",
        "\n",
        "#convert our image into numpy array\n",
        "npimg = np.array(img_jpg)\n",
        "\n",
        "#convert numpy image back to PIL image and display it\n",
        "npimg = Image.fromarray(npimg)\n",
        "display(npimg)"
      ],
      "execution_count": 89,
      "outputs": [
        {
          "output_type": "display_data",
          "data": {
            "image/png": "[encoded data removed]",
            "text/plain": [
              "<PIL.Image.Image image mode=RGB size=601x203 at 0x7FD0BC2159B0>"
            ]
          },
          "metadata": {
            "tags": []
          }
        },
        {
          "output_type": "display_data",
          "data": {
            "image/png": "[encoded data removed]",
            "text/plain": [
              "<PIL.Image.Image image mode=RGB size=601x203 at 0x7FD0BC2159E8>"
            ]
          },
          "metadata": {
            "tags": []
          }
        }
      ]
    },
    {
      "cell_type": "code",
      "metadata": {
        "id": "vGGLY19mgk3F",
        "colab_type": "code",
        "colab": {
          "base_uri": "https://localhost:8080/",
          "height": 255
        },
        "outputId": "f8afb1d7-0904-4bc5-e296-6547b7b76366"
      },
      "source": [
        "npimg = np.array(img_jpg)\n",
        "print(img_jpg.size)\n",
        "print(npimg.shape)\n",
        "# Operation 1: \n",
        "# npimg[0:0, 100:100] = 255\n",
        "# Operation 2: \n",
        "# npimg[50:200, 50:200] = 255\n",
        "# Operation 3: \n",
        "# npimg[100:150, 0:100] = 255\n",
        "# Operation 4: \n",
        "npimg[0:150, 50:200] = 255\n",
        "\n",
        "npimg = Image.fromarray(npimg)\n",
        "display(npimg)"
      ],
      "execution_count": 94,
      "outputs": [
        {
          "output_type": "stream",
          "text": [
            "(601, 203)\n",
            "(203, 601, 3)\n"
          ],
          "name": "stdout"
        },
        {
          "output_type": "display_data",
          "data": {
            "image/png": "[encoded data removed]",
            "text/plain": [
              "<PIL.Image.Image image mode=RGB size=601x203 at 0x7FD0BC215B00>"
            ]
          },
          "metadata": {
            "tags": []
          }
        }
      ]
    },
    {
      "cell_type": "markdown",
      "metadata": {
        "id": "xs3pNYEcjvh4",
        "colab_type": "text"
      },
      "source": [
        "# Quiz Question 14\n",
        "Which Operation will hide the Colorful Python logo completely?\n",
        "\n",
        "# Quiz Question 15\n",
        "Numpy Axies are (y, x), where as PIL axies are (x, y). True or False?"
      ]
    },
    {
      "cell_type": "markdown",
      "metadata": {
        "id": "N5Bl4tULmA-f",
        "colab_type": "text"
      },
      "source": [
        "## Gradients\n",
        "Notice how cleanly we calculated (x or y? you can find out if your 15th answer was correct) gradient!"
      ]
    },
    {
      "cell_type": "code",
      "metadata": {
        "id": "dnfMUmOYdBQP",
        "colab_type": "code",
        "colab": {
          "base_uri": "https://localhost:8080/",
          "height": 220
        },
        "outputId": "1bdc602e-43d7-42a0-965a-bcf84d7a7311"
      },
      "source": [
        "npimg = np.array(img_jpg)\n",
        "# Gradient Operation\n",
        "newimg = npimg[:, :-1] - npimg[:, 1:]\n",
        "# newimg = npimg[:-1, :] - npimg[1:, :]\n",
        "npimg = Image.fromarray(newimg)\n",
        "display(npimg)"
      ],
      "execution_count": 101,
      "outputs": [
        {
          "output_type": "display_data",
          "data": {
            "image/png": "[encoded data removed]",
            "text/plain": [
              "<PIL.Image.Image image mode=RGB size=600x203 at 0x7FD0BC215630>"
            ]
          },
          "metadata": {
            "tags": []
          }
        }
      ]
    },
    {
      "cell_type": "markdown",
      "metadata": {
        "id": "e6aALYGYld2d",
        "colab_type": "text"
      },
      "source": [
        "# Quiz Question 16\n",
        "\n",
        "From the options available below, which operation will give us \"other\" gradient? (Other means if we got x-gradient above then y-gradients and vice-verse)\n",
        "\n",
        "1. newimg = npimg[:-1, :] - npimg[1:, :]\n",
        "2. newimg = npimg[:, 1:] - npimg[1:, :]\n",
        "3. newimg = npimg[:-1, :] - npimg[:, 1:]\n",
        "4. newimg = npimg[:, :-1] - npimg[:, 1:]\n",
        "\n"
      ]
    },
    {
      "cell_type": "markdown",
      "metadata": {
        "id": "Wvq1z8Rqnqds",
        "colab_type": "text"
      },
      "source": [
        "What you have done above is one of the very important operation as you will see in future. This is used in Loss function as well.\n",
        "\n",
        "## Convolution\n",
        "\n",
        "We are going to use filter2D function which is built into OpenCV to perform Convolution.\n"
      ]
    },
    {
      "cell_type": "code",
      "metadata": {
        "id": "xDXsqPRXk5-y",
        "colab_type": "code",
        "colab": {}
      },
      "source": [
        "# import the necessary packages\n",
        "import numpy as np\n",
        "from urllib.request import urlopen\n",
        "import cv2\n",
        "from matplotlib import pyplot as plt\n",
        "\n",
        "# METHOD #1: OpenCV, NumPy, and urllib\n",
        "def url_to_image(url):\n",
        "\t# download the image, convert it to a NumPy array, and then read\n",
        "\t# it into OpenCV format\n",
        "\tresp = urlopen(url)\n",
        "\timage = np.asarray(bytearray(resp.read()), dtype=\"uint8\")\n",
        "\timage = cv2.imdecode(image, cv2.IMREAD_COLOR)\n",
        " \n",
        "\t# return the image\n",
        "\treturn image"
      ],
      "execution_count": 0,
      "outputs": []
    },
    {
      "cell_type": "code",
      "metadata": {
        "id": "Vdg5KfQXohjP",
        "colab_type": "code",
        "colab": {
          "base_uri": "https://localhost:8080/",
          "height": 220
        },
        "outputId": "42a7ce7e-9015-4a6b-caf3-554ade3449c3"
      },
      "source": [
        "image = url_to_image(\"https://encrypted-tbn0.gstatic.com/images?q=tbn%3AANd9GcRZpTmijaNOH6MmycM_eiPKcEl5mVvbwl7a8YKVGpEEMIanDcSt\")\n",
        "from google.colab.patches import cv2_imshow\n",
        "cv2_imshow(image)"
      ],
      "execution_count": 104,
      "outputs": [
        {
          "output_type": "display_data",
          "data": {
            "image/png": "[encoded data removed]",
            "text/plain": [
              "<PIL.Image.Image image mode=RGB size=601x203 at 0x7FD0B31D0E48>"
            ]
          },
          "metadata": {
            "tags": []
          }
        }
      ]
    },
    {
      "cell_type": "markdown",
      "metadata": {
        "id": "vJMKdEkUrlyF",
        "colab_type": "text"
      },
      "source": [
        "# Canny Edge Detection"
      ]
    },
    {
      "cell_type": "code",
      "metadata": {
        "id": "-XSF96c0o1MS",
        "colab_type": "code",
        "colab": {
          "base_uri": "https://localhost:8080/",
          "height": 220
        },
        "outputId": "e234d536-0485-4d7f-af8e-80aafa0b9ae7"
      },
      "source": [
        "edges = cv2.Canny(image,100,200)\n",
        "cv2_imshow(edges)"
      ],
      "execution_count": 105,
      "outputs": [
        {
          "output_type": "display_data",
          "data": {
            "image/png": "[encoded data removed]",
            "text/plain": [
              "<PIL.Image.Image image mode=L size=601x203 at 0x7FD0B31D0F28>"
            ]
          },
          "metadata": {
            "tags": []
          }
        }
      ]
    },
    {
      "cell_type": "markdown",
      "metadata": {
        "id": "3m0m7w1Dru_d",
        "colab_type": "text"
      },
      "source": [
        "## Convolution\n",
        "\n",
        "As mentioned above we'll use OpenCV's inbuilt function `filter2D` to perform our convolution operation. We are defining a vertical Edge detector below to perform our convolution. "
      ]
    },
    {
      "cell_type": "code",
      "metadata": {
        "id": "XZejR_S7rqYf",
        "colab_type": "code",
        "colab": {
          "base_uri": "https://localhost:8080/",
          "height": 220
        },
        "outputId": "e294dd81-af10-4e68-8af4-ba95d3132c58"
      },
      "source": [
        "kernel = np.float32([[-1,0,1],[-1,0,1],[-1,0,1]])\n",
        "\n",
        "dst = cv2.filter2D(image,-1,kernel)\n",
        "cv2_imshow(dst)"
      ],
      "execution_count": 106,
      "outputs": [
        {
          "output_type": "display_data",
          "data": {
            "image/png": "[encoded data removed]",
            "text/plain": [
              "<PIL.Image.Image image mode=RGB size=601x203 at 0x7FD0B31D0048>"
            ]
          },
          "metadata": {
            "tags": []
          }
        }
      ]
    },
    {
      "cell_type": "markdown",
      "metadata": {
        "id": "3nJIICgqr9kp",
        "colab_type": "text"
      },
      "source": [
        "# Quiz Question 17\n",
        "Which kernel among these options will give us horizontal edge? \n",
        "\n",
        "1. kernel = np.float32([[-1, -1, -1],[0,0,0],[1,1,1]])\n",
        "2. kernel = np.float32([[-1, -2, -1],[0,0,0],[1,2,1]])\n",
        "3. kernel = np.float32([[-4, -1, -4],[0,0,0],[4,1,4]])\n",
        "4. kernel = np.float32([[-4, -4, -4],[0,0,0],[4,4,4]])"
      ]
    },
    {
      "cell_type": "code",
      "metadata": {
        "id": "SFQxVsLMrtog",
        "colab_type": "code",
        "colab": {
          "base_uri": "https://localhost:8080/",
          "height": 220
        },
        "outputId": "cee33876-8235-469f-b5e1-10dd54218da6"
      },
      "source": [
        "kernel = np.float32([[0,0,0],[0,1,0],[0,0,0]]) # use the correct kernel from above\n",
        "dst = cv2.filter2D(image,-1,kernel)\n",
        "cv2_imshow(dst)"
      ],
      "execution_count": 112,
      "outputs": [
        {
          "output_type": "display_data",
          "data": {
            "image/png": "[encoded data removed]",
            "text/plain": [
              "<PIL.Image.Image image mode=RGB size=601x203 at 0x7FD0B31D4B70>"
            ]
          },
          "metadata": {
            "tags": []
          }
        }
      ]
    },
    {
      "cell_type": "markdown",
      "metadata": {
        "id": "hBj3L7a5wi-1",
        "colab_type": "text"
      },
      "source": [
        "# Quiz Question 18\n",
        "\n",
        "What would this kernel do?\n",
        "\n",
        "*   kernel = 1/9*np.float32([[1,1,1],[1,1,1],[1,1,1]])\n",
        "\n",
        "\n",
        "\n"
      ]
    },
    {
      "cell_type": "markdown",
      "metadata": {
        "id": "ac9S7sDaxBXD",
        "colab_type": "text"
      },
      "source": [
        "# Quiz Question 19\n",
        "\n",
        "What would this kernel do?\n",
        "\n",
        "*   kernal = np.float32([[0,0,0],[0,1,0],[0,0,0]])"
      ]
    },
    {
      "cell_type": "markdown",
      "metadata": {
        "id": "cGS5GSwst_Bx",
        "colab_type": "text"
      },
      "source": [
        "# RGB to Grayscale Conversion\n",
        "There are many ways to convert RGB to Grayscale, below is just one of them (averaging the colors) which we are trying but is wrong. "
      ]
    },
    {
      "cell_type": "code",
      "metadata": {
        "id": "ccHf9t0rsdEg",
        "colab_type": "code",
        "colab": {
          "base_uri": "https://localhost:8080/",
          "height": 238
        },
        "outputId": "2c0b93fc-bd7a-4844-ba01-29463bbbc031"
      },
      "source": [
        "npimg = np.array(img_jpg)\n",
        "# this operation is wrong, how can we fix it?\n",
        "npimg = np.sum(npimg/3, axis=-1)\n",
        "print(npimg.shape)\n",
        "npimg = Image.fromarray(npimg.astype('uint8'))\n",
        "display(npimg)"
      ],
      "execution_count": 113,
      "outputs": [
        {
          "output_type": "stream",
          "text": [
            "(203, 601)\n"
          ],
          "name": "stdout"
        },
        {
          "output_type": "display_data",
          "data": {
            "image/png": "[encoded data removed]",
            "text/plain": [
              "<PIL.Image.Image image mode=L size=601x203 at 0x7FD0B31D41D0>"
            ]
          },
          "metadata": {
            "tags": []
          }
        }
      ]
    },
    {
      "cell_type": "markdown",
      "metadata": {
        "id": "JMiiFjLzve1_",
        "colab_type": "text"
      },
      "source": [
        "# Quiz Question 20\n",
        "Which is the below is correct way of average the channels to get grayscale image?\n",
        "1. npimg = np.sum(npimg/3, axis=-1)\n",
        "2. npimg = np.sum(npimg, axis=-1)/3"
      ]
    },
    {
      "cell_type": "code",
      "metadata": {
        "id": "Z9Q8jENAxmmG",
        "colab_type": "code",
        "colab": {}
      },
      "source": [
        ""
      ],
      "execution_count": 0,
      "outputs": []
    }
  ]
}